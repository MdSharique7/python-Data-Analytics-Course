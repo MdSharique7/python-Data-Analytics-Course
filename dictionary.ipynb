{
 "cells": [
  {
   "attachments": {},
   "cell_type": "markdown",
   "metadata": {},
   "source": [
    "### 'data structure'\n",
    "- list(✔)\n",
    "- tuple\n",
    "- set\n",
    "- dictionary(✔)\n",
    "### 'dictinary'\n",
    "- ordered, unindexed,mutable\n",
    "- key value pairs{key: value}\n",
    "- keys are unique, values can be mutable\n",
    "- represented by { }\n",
    "- dict() comstructor that takes a list of tuples as an argument"
   ]
  },
  {
   "cell_type": "code",
   "execution_count": 1,
   "metadata": {},
   "outputs": [
    {
     "name": "stdout",
     "output_type": "stream",
     "text": [
      "['X91290', 'Mobile Phone', 12858, 1000, '12-12-23', 0, 1, 0]\n"
     ]
    }
   ],
   "source": [
    "x = ['X91290','Mobile Phone',12858,1000,'12-12-23',0,1,0]\n",
    "print(x)"
   ]
  },
  {
   "cell_type": "code",
   "execution_count": 4,
   "metadata": {},
   "outputs": [
    {
     "name": "stdout",
     "output_type": "stream",
     "text": [
      "{'id': 'X91290', 'type': 'Mobile Phone', 'price': 12858, 'quantity': 1000, 'date': '12-12-23', 'is_available': 0, 'is_delievered': 1, 'is_new': 0}\n"
     ]
    }
   ],
   "source": [
    "y = {'id': 'X91290','type': 'Mobile Phone','price': 12858,'quantity': 1000,'date':'12-12-23','is_available':0,'is_delievered':1,'is_new':0}\n",
    "print(y)"
   ]
  },
  {
   "cell_type": "code",
   "execution_count": 6,
   "metadata": {},
   "outputs": [
    {
     "name": "stdout",
     "output_type": "stream",
     "text": [
      "12-12-23 12858\n"
     ]
    }
   ],
   "source": [
    "print(y['date'],y['price']) "
   ]
  },
  {
   "cell_type": "code",
   "execution_count": 10,
   "metadata": {},
   "outputs": [
    {
     "data": {
      "text/plain": [
       "1000"
      ]
     },
     "execution_count": 10,
     "metadata": {},
     "output_type": "execute_result"
    }
   ],
   "source": [
    "y.get('quantity',0)"
   ]
  },
  {
   "cell_type": "code",
   "execution_count": 11,
   "metadata": {},
   "outputs": [],
   "source": [
    "y.get('address')"
   ]
  },
  {
   "cell_type": "code",
   "execution_count": 12,
   "metadata": {},
   "outputs": [
    {
     "data": {
      "text/plain": [
       "dict_keys(['id', 'type', 'price', 'quantity', 'date', 'is_available', 'is_delievered', 'is_new'])"
      ]
     },
     "execution_count": 12,
     "metadata": {},
     "output_type": "execute_result"
    }
   ],
   "source": [
    "y.keys()"
   ]
  },
  {
   "cell_type": "code",
   "execution_count": 13,
   "metadata": {},
   "outputs": [
    {
     "data": {
      "text/plain": [
       "dict_values(['X91290', 'Mobile Phone', 12858, 1000, '12-12-23', 0, 1, 0])"
      ]
     },
     "execution_count": 13,
     "metadata": {},
     "output_type": "execute_result"
    }
   ],
   "source": [
    "y.values()"
   ]
  },
  {
   "cell_type": "code",
   "execution_count": 14,
   "metadata": {},
   "outputs": [
    {
     "data": {
      "text/plain": [
       "'X91290'"
      ]
     },
     "execution_count": 14,
     "metadata": {},
     "output_type": "execute_result"
    }
   ],
   "source": [
    "y.get('id','not found')"
   ]
  },
  {
   "cell_type": "code",
   "execution_count": 17,
   "metadata": {},
   "outputs": [
    {
     "name": "stdout",
     "output_type": "stream",
     "text": [
      "{1: 'a', 2: 'b', 3: 'c', 4: 'd', 5: 'e'}\n"
     ]
    }
   ],
   "source": [
    "x = [1,2,3,4,5]\n",
    "names = ['a','b','c','d','e']\n",
    "info = {}\n",
    "for i,j in zip(x,names):\n",
    "    info[i] = j\n",
    "print(info)    "
   ]
  },
  {
   "cell_type": "code",
   "execution_count": 20,
   "metadata": {},
   "outputs": [
    {
     "name": "stdout",
     "output_type": "stream",
     "text": [
      "{'Alex': 'Andderson', 'John': 'Edwards', 'Mary': 'carter', 'Steve': 'Fox'}\n"
     ]
    }
   ],
   "source": [
    "fname  = ['Alex','John','Mary','Steve','John','Steve']\n",
    "lname = ['Andderson','Brown','carter','Davis','Edwards','Fox']\n",
    "\n",
    "names = {}\n",
    "for f,l in zip(fname,lname):\n",
    "    names[f] = l\n",
    "print(names)    "
   ]
  },
  {
   "cell_type": "code",
   "execution_count": 22,
   "metadata": {},
   "outputs": [],
   "source": [
    "from pprint import pp"
   ]
  },
  {
   "cell_type": "code",
   "execution_count": 23,
   "metadata": {},
   "outputs": [
    {
     "name": "stdout",
     "output_type": "stream",
     "text": [
      "{'bread': 12,\n",
      " 'makhan': 14,\n",
      " 'milk': 500,\n",
      " 'rice ': 2000,\n",
      " 'maize': 1000}\n"
     ]
    }
   ],
   "source": [
    "budget = {}\n",
    "for i in range (5):\n",
    "    name = input('Enter name: ')\n",
    "    amount = int(input('Enter amount: '))\n",
    "    budget[name] = amount\n",
    "pp(budget,width = 1)    "
   ]
  },
  {
   "cell_type": "code",
   "execution_count": 24,
   "metadata": {},
   "outputs": [
    {
     "data": {
      "text/plain": [
       "dict_items([('bread', 12), ('makhan', 14), ('milk', 500), ('rice ', 2000), ('maize', 1000)])"
      ]
     },
     "execution_count": 24,
     "metadata": {},
     "output_type": "execute_result"
    }
   ],
   "source": [
    "budget.items()"
   ]
  },
  {
   "cell_type": "code",
   "execution_count": 25,
   "metadata": {},
   "outputs": [
    {
     "name": "stdout",
     "output_type": "stream",
     "text": [
      "bread 12\n",
      "makhan 14\n",
      "milk 500\n",
      "rice  2000\n",
      "maize 1000\n"
     ]
    }
   ],
   "source": [
    "for k ,v in budget.items():\n",
    "    print(k, v)"
   ]
  },
  {
   "cell_type": "code",
   "execution_count": 27,
   "metadata": {},
   "outputs": [
    {
     "name": "stdout",
     "output_type": "stream",
     "text": [
      "total_amount = 3526\n"
     ]
    }
   ],
   "source": [
    "total_amount = 0\n",
    "for k ,v in budget.items():\n",
    "    total_amount = total_amount + v #(total_amount += v)\n",
    "print(f'{total_amount = }')    "
   ]
  },
  {
   "cell_type": "code",
   "execution_count": 30,
   "metadata": {},
   "outputs": [
    {
     "data": {
      "text/plain": [
       "500"
      ]
     },
     "execution_count": 30,
     "metadata": {},
     "output_type": "execute_result"
    }
   ],
   "source": [
    "budget.pop('milk')"
   ]
  },
  {
   "attachments": {},
   "cell_type": "markdown",
   "metadata": {},
   "source": [
    "wap to create a dictionary Contacts with name and numbers\n",
    "- give option to add a contact \n",
    "- give option to view contact\n",
    "- give option to delete a contact"
   ]
  },
  {
   "cell_type": "code",
   "execution_count": null,
   "metadata": {},
   "outputs": [],
   "source": [
    "contact = {'emergency' : 112}\n",
    "while True:\n",
    "    "
   ]
  }
 ],
 "metadata": {
  "kernelspec": {
   "display_name": "base",
   "language": "python",
   "name": "python3"
  },
  "language_info": {
   "codemirror_mode": {
    "name": "ipython",
    "version": 3
   },
   "file_extension": ".py",
   "mimetype": "text/x-python",
   "name": "python",
   "nbconvert_exporter": "python",
   "pygments_lexer": "ipython3",
   "version": "3.9.12"
  },
  "orig_nbformat": 4,
  "vscode": {
   "interpreter": {
    "hash": "c28b3cece02bc02c12fa5766a988d4443922620539affbc7b46a193a80d0f256"
   }
  }
 },
 "nbformat": 4,
 "nbformat_minor": 2
}
