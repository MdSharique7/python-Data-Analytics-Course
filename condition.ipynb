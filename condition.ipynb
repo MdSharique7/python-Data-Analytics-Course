{
 "cells": [
  {
   "cell_type": "code",
   "execution_count": 1,
   "metadata": {},
   "outputs": [
    {
     "name": "stdout",
     "output_type": "stream",
     "text": [
      "value is less than 100\n"
     ]
    }
   ],
   "source": [
    "val = 58\n",
    "if val < 100:\n",
    "    print(\"value is less than 100\")"
   ]
  },
  {
   "cell_type": "code",
   "execution_count": 2,
   "metadata": {},
   "outputs": [],
   "source": [
    "val = 3\n",
    "if val > 100:\n",
    "    print(\"value is greater than 100\")"
   ]
  },
  {
   "cell_type": "code",
   "execution_count": 3,
   "metadata": {},
   "outputs": [
    {
     "name": "stdout",
     "output_type": "stream",
     "text": [
      "you can vote!\n"
     ]
    }
   ],
   "source": [
    "age = 20 \n",
    "if age >= 18:\n",
    "    print(\"you can vote!\")\n",
    "else:\n",
    "    print(\"you can't vote!\")"
   ]
  },
  {
   "cell_type": "code",
   "execution_count": 5,
   "metadata": {},
   "outputs": [
    {
     "name": "stdout",
     "output_type": "stream",
     "text": [
      "welcome admin\n"
     ]
    }
   ],
   "source": [
    "username = input(\"Enter your username: \")\n",
    "password = input(\"Enter your password: \")\n",
    "if username == 'admin' and 'root' :\n",
    "    print(\"welcome admin\")\n",
    "else:\n",
    "    print(\"invalid credentials\")"
   ]
  },
  {
   "cell_type": "code",
   "execution_count": 8,
   "metadata": {},
   "outputs": [
    {
     "name": "stdout",
     "output_type": "stream",
     "text": [
      "you don't have the permission\n"
     ]
    }
   ],
   "source": [
    "username = input(\"Enter the username: \")\n",
    "password = input(\"Enter the password: \")\n",
    "#nested condition\n",
    "if username == 'admin':\n",
    "    if password == 'root':\n",
    "        print(\"welcome admin\")  \n",
    "    else:\n",
    "        print(\"invalid password\")\n",
    "else:\n",
    "    print(\"you don't have the permission\")\n",
    "    e = True\n",
    "if password != \"root\":\n",
    "    print(\"invalid password\")\n",
    "if not e:\n",
    "    print(\"welcome to the sysytem\")\n",
    "                \n"
   ]
  },
  {
   "cell_type": "code",
   "execution_count": 4,
   "metadata": {},
   "outputs": [
    {
     "name": "stdout",
     "output_type": "stream",
     "text": [
      "welcome to the system\n"
     ]
    }
   ],
   "source": [
    "# negative statements first # nevernester\n",
    "username = input(\"Enter your username: \")\n",
    "password = input(\"Enter your password: \")\n",
    "e = False\n",
    "if username != 'admin':\n",
    "    print(\"you don't have the permission.\")\n",
    "    e=True\n",
    "if password != 'root':\n",
    "    print(\"invalid password\")\n",
    "    e = True\n",
    "if not e:\n",
    "    print(\"welcome to the system\")        \n",
    "    "
   ]
  },
  {
   "cell_type": "code",
   "execution_count": 7,
   "metadata": {},
   "outputs": [
    {
     "name": "stdout",
     "output_type": "stream",
     "text": [
      "invalid password\n"
     ]
    }
   ],
   "source": [
    "username = input(\"Enter your username: \")\n",
    "password = input(\"Enter your password: \")\n",
    "if username != 'admin':\n",
    "    print(\"you don't have the permission.\")\n",
    "elif password != 'root':\n",
    "    print(\"invalid password\")\n",
    "else:\n",
    "    print(\"welcome to the system\")        "
   ]
  },
  {
   "cell_type": "code",
   "execution_count": null,
   "metadata": {},
   "outputs": [],
   "source": []
  }
 ],
 "metadata": {
  "kernelspec": {
   "display_name": "base",
   "language": "python",
   "name": "python3"
  },
  "language_info": {
   "codemirror_mode": {
    "name": "ipython",
    "version": 3
   },
   "file_extension": ".py",
   "mimetype": "text/x-python",
   "name": "python",
   "nbconvert_exporter": "python",
   "pygments_lexer": "ipython3",
   "version": "3.9.12 (main, Apr  4 2022, 05:22:27) [MSC v.1916 64 bit (AMD64)]"
  },
  "orig_nbformat": 4,
  "vscode": {
   "interpreter": {
    "hash": "c28b3cece02bc02c12fa5766a988d4443922620539affbc7b46a193a80d0f256"
   }
  }
 },
 "nbformat": 4,
 "nbformat_minor": 2
}
