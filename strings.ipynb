{
 "cells": [
  {
   "cell_type": "code",
   "execution_count": 1,
   "metadata": {},
   "outputs": [
    {
     "name": "stdout",
     "output_type": "stream",
     "text": [
      "this is some Kind of message\n",
      " This is one line\n",
      "This is another line\n",
      "This is the last line\n",
      "\n",
      "One is a number\n",
      "Two is another number\n",
      "Three is the last number\n",
      "\n"
     ]
    }
   ],
   "source": [
    "a = 'Hello' # string\n",
    "a = \"Hello\" # string\n",
    "word = 'this is some Kind of message'\n",
    "print(word)\n",
    "#multiline string\n",
    "message = ''' This is one line\n",
    "This is another line\n",
    "This is the last line\n",
    "'''\n",
    "message2 = \"\"\"One is a number\n",
    "Two is another number\n",
    "Three is the last number\n",
    "\"\"\"\n",
    "print(message)\n",
    "print(message2)"
   ]
  },
  {
   "cell_type": "code",
   "execution_count": 5,
   "metadata": {},
   "outputs": [
    {
     "name": "stdout",
     "output_type": "stream",
     "text": [
      "b'Hello'\n",
      "this is john\n",
      "this is \\n a \\n raw \\n string\n",
      "C:\\Users\\lenovo\\Pictures\\Saved Pictures\\Agra\n"
     ]
    }
   ],
   "source": [
    "name = 'john'\n",
    "message = f'this is {name}'\n",
    "raw_string = r'this is \\n a \\n raw \\n string'\n",
    "address = r'C:\\Users\\lenovo\\Pictures\\Saved Pictures\\Agra'\n",
    "binary = b'Hello' #byte string\n",
    "print(binary)\n",
    "print(message)\n",
    "print(raw_string)\n",
    "print(address)"
   ]
  },
  {
   "attachments": {},
   "cell_type": "markdown",
   "metadata": {},
   "source": [
    "## string duplication"
   ]
  },
  {
   "cell_type": "code",
   "execution_count": 6,
   "metadata": {},
   "outputs": [
    {
     "data": {
      "text/plain": [
       "'o-xo-xo-xo-xo-x'"
      ]
     },
     "execution_count": 6,
     "metadata": {},
     "output_type": "execute_result"
    }
   ],
   "source": [
    "\"o-x\"*5"
   ]
  },
  {
   "cell_type": "code",
   "execution_count": 7,
   "metadata": {},
   "outputs": [
    {
     "name": "stdout",
     "output_type": "stream",
     "text": [
      "______________________________\n"
     ]
    }
   ],
   "source": [
    "print(\"__\"*15)"
   ]
  },
  {
   "attachments": {},
   "cell_type": "markdown",
   "metadata": {},
   "source": [
    "string properties\n",
    "* strings are indexed\n",
    "* strings are immutable\n",
    "* strings are iterable"
   ]
  },
  {
   "cell_type": "code",
   "execution_count": 35,
   "metadata": {},
   "outputs": [
    {
     "name": "stdout",
     "output_type": "stream",
     "text": [
      "13\n",
      "S\n",
      "h\n",
      "Shar\n",
      "n\n",
      "S h\n"
     ]
    }
   ],
   "source": [
    "name = \"Sharique Khan\"\n",
    "print(len(name))\n",
    "print(name[0]) # first element\n",
    "print(name[1])\n",
    "print(name[0:4])\n",
    "print(name[-1])\n",
    "print(name[0],name[1])\n",
    "#print(name[15]) # out of range\n",
    "#print(name=[10])# stupidity"
   ]
  },
  {
   "cell_type": "code",
   "execution_count": 36,
   "metadata": {},
   "outputs": [
    {
     "name": "stdout",
     "output_type": "stream",
     "text": [
      "Zaid Khan\n"
     ]
    }
   ],
   "source": [
    "# name[1] = 'f' # string are immutable\n",
    "name = \"Sharique Khan\"\n",
    "x=name.replace(\"Sharique\",\"Zaid\")\n",
    "print(x)"
   ]
  },
  {
   "cell_type": "code",
   "execution_count": 17,
   "metadata": {},
   "outputs": [
    {
     "name": "stdout",
     "output_type": "stream",
     "text": [
      "S\n",
      "speare\n"
     ]
    }
   ],
   "source": [
    "# slicing str [start : end :step]\n",
    "name = \"William Shakespeare\"\n",
    "print(name[8])\n",
    "print(name[13:19])\n"
   ]
  },
  {
   "cell_type": "code",
   "execution_count": 27,
   "metadata": {},
   "outputs": [
    {
     "name": "stdout",
     "output_type": "stream",
     "text": [
      "journey\n",
      "Before\n",
      " Destination\n"
     ]
    }
   ],
   "source": [
    "sentence = \"journey Before Destination\"\n",
    "print(sentence[0:7])\n",
    "print(sentence[8:14])\n",
    "print(sentence[14:])"
   ]
  },
  {
   "cell_type": "code",
   "execution_count": 28,
   "metadata": {},
   "outputs": [
    {
     "name": "stdout",
     "output_type": "stream",
     "text": [
      "Ecyts\n",
      "ulpu\n",
      "sutpylcuE\n"
     ]
    }
   ],
   "source": [
    "word = \"Euclyptus\"\n",
    "print(word[::2]) # step size (even indexed elements)\n",
    "print(word[1::2]) # step size (odd indexed elements)\n",
    "print(word[::-1]) # reverse the string"
   ]
  },
  {
   "cell_type": "code",
   "execution_count": 29,
   "metadata": {},
   "outputs": [
    {
     "name": "stdout",
     "output_type": "stream",
     "text": [
      "1000000.00\n"
     ]
    }
   ],
   "source": [
    "amount = \"$1000000.00\"\n",
    "amount = amount[1:]\n",
    "print(amount)"
   ]
  },
  {
   "cell_type": "code",
   "execution_count": 32,
   "metadata": {},
   "outputs": [
    {
     "name": "stdout",
     "output_type": "stream",
     "text": [
      "Vikram\n",
      "Prasad\n"
     ]
    }
   ],
   "source": [
    "name = \"Dr. Vikram Prasad\"\n",
    "print(name[4:10])\n",
    "print(name[11:17])"
   ]
  },
  {
   "cell_type": "code",
   "execution_count": null,
   "metadata": {},
   "outputs": [],
   "source": [
    "word = '_python_' #clean this word\n",
    "print(word[2:-2])\n",
    "print(word)# skip first 2 and last 2 elemnts"
   ]
  }
 ],
 "metadata": {
  "kernelspec": {
   "display_name": "base",
   "language": "python",
   "name": "python3"
  },
  "language_info": {
   "codemirror_mode": {
    "name": "ipython",
    "version": 3
   },
   "file_extension": ".py",
   "mimetype": "text/x-python",
   "name": "python",
   "nbconvert_exporter": "python",
   "pygments_lexer": "ipython3",
   "version": "3.9.12 (main, Apr  4 2022, 05:22:27) [MSC v.1916 64 bit (AMD64)]"
  },
  "orig_nbformat": 4,
  "vscode": {
   "interpreter": {
    "hash": "c28b3cece02bc02c12fa5766a988d4443922620539affbc7b46a193a80d0f256"
   }
  }
 },
 "nbformat": 4,
 "nbformat_minor": 2
}
