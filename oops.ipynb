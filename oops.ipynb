{
 "cells": [
  {
   "attachments": {},
   "cell_type": "markdown",
   "metadata": {},
   "source": [
    "OOPS - Object Priented Programming\n",
    "- Real World into Virtual World by different objectd\n",
    "- For everything that we do required an object\n",
    "- Object has \n",
    "1- Attributes , data , properties , variables ---- my name , my age , my height\n",
    "2- behaviour , Methods -- I am speaking, wathching ,walking , talking, dancing\n",
    "-  functions in OOPS are called methods\n",
    "Class has \n",
    "1 -Blue Print, Design"
   ]
  },
  {
   "cell_type": "code",
   "execution_count": 1,
   "metadata": {},
   "outputs": [
    {
     "name": "stdout",
     "output_type": "stream",
     "text": [
      "<class 'int'>\n"
     ]
    }
   ],
   "source": [
    "x = 10\n",
    "print(type(x))"
   ]
  },
  {
   "cell_type": "code",
   "execution_count": 2,
   "metadata": {},
   "outputs": [
    {
     "name": "stdout",
     "output_type": "stream",
     "text": [
      "<class '__main__.Computer'>\n"
     ]
    }
   ],
   "source": [
    "class Computer:\n",
    "    def config(self):\n",
    "        print(\"My system configuration is \",\"i5,16gb,1Tb\")\n",
    "\n",
    "c1 = Computer()\n",
    "c2 = Computer()\n",
    "print(type(c1))        "
   ]
  },
  {
   "cell_type": "code",
   "execution_count": 5,
   "metadata": {},
   "outputs": [
    {
     "name": "stdout",
     "output_type": "stream",
     "text": [
      "My system configuration is  i5,16gb,1Tb\n",
      "My system configuration is  i5,16gb,1Tb\n"
     ]
    }
   ],
   "source": [
    "class Computer:\n",
    "    def config(self):\n",
    "        print(\"My system configuration is \",\"i5,16gb,1Tb\")\n",
    "\n",
    "c1 = Computer()\n",
    "c2 = Computer()\n",
    "c1.config()\n",
    "Computer.config(c1)"
   ]
  },
  {
   "attachments": {},
   "cell_type": "markdown",
   "metadata": {},
   "source": [
    "__init__method\n",
    "* Special Methods to define variables in class\n",
    "* It is same like constructor\n",
    "* It is called automatically"
   ]
  },
  {
   "cell_type": "code",
   "execution_count": 9,
   "metadata": {},
   "outputs": [
    {
     "name": "stdout",
     "output_type": "stream",
     "text": [
      "My system configuration is  i5 16gb 1tb\n",
      "My system configuration is  i7 32gb 2tb\n",
      "My system configuration is  i5 16gb 1tb\n",
      "My system configuration is  i7 32gb 2tb\n"
     ]
    }
   ],
   "source": [
    "class Computer:\n",
    "    def __init__(self,cpu,ram,mem):\n",
    "        self.cpu = cpu\n",
    "        self.ram = ram\n",
    "        self.mem = mem\n",
    "    def config(self):\n",
    "        print(\"My system configuration is \",self.cpu,self.ram,self.mem)\n",
    "\n",
    "\n",
    "c1 = Computer(\"i5\",\"16gb\",\"1tb\")\n",
    "c2 = Computer(\"i7\",\"32gb\",\"2tb\")\n",
    "c1.config()\n",
    "c2.config()\n",
    "Computer.config(c1)\n",
    "Computer.config(c2)"
   ]
  },
  {
   "cell_type": "code",
   "execution_count": 10,
   "metadata": {},
   "outputs": [
    {
     "name": "stdout",
     "output_type": "stream",
     "text": [
      "Sharique 30\n"
     ]
    }
   ],
   "source": [
    "class Computer:\n",
    "    def __init__(self):\n",
    "        self.name = \"Sharique\"\n",
    "        self.age = 30\n",
    "c1 = Computer()\n",
    "c2 = Computer()\n",
    "print(c1.name,c1.age)        \n",
    "        "
   ]
  },
  {
   "attachments": {},
   "cell_type": "markdown",
   "metadata": {},
   "source": [
    "#### Types of variables\n",
    "* Instance Variable - define inside init\n",
    "* Class variable - Outside inside init"
   ]
  },
  {
   "cell_type": "code",
   "execution_count": 12,
   "metadata": {},
   "outputs": [
    {
     "name": "stdout",
     "output_type": "stream",
     "text": [
      "15 TATA Black\n"
     ]
    }
   ],
   "source": [
    "class Car:\n",
    "    color = \"Black\"\n",
    "    def __init__(self):\n",
    "        self.mil = 15\n",
    "        self.comp = \"TATA\"\n",
    "c1 = Car()\n",
    "print(c1.mil,c1.comp,c1.color)        "
   ]
  },
  {
   "attachments": {},
   "cell_type": "markdown",
   "metadata": {},
   "source": [
    "##### Types of Methods \n",
    "* Instance Methods\n",
    "* Class Mathods\n",
    "* Static Methods "
   ]
  },
  {
   "attachments": {},
   "cell_type": "markdown",
   "metadata": {},
   "source": [
    "###### Instance Methods\n"
   ]
  },
  {
   "cell_type": "code",
   "execution_count": 13,
   "metadata": {},
   "outputs": [
    {
     "name": "stdout",
     "output_type": "stream",
     "text": [
      "80.0\n",
      "66.66666666666667\n",
      "80.0\n",
      "66.66666666666667\n"
     ]
    }
   ],
   "source": [
    "class Student:\n",
    "    def __init__(self,m1,m2,m3):\n",
    "        self.m1 = m1\n",
    "        self.m2 = m2\n",
    "        self.m3 = m3\n",
    "    def avg(self):\n",
    "        return(self.m1 + self.m2 + self.m3)/3\n",
    "s1 = Student(90,80,70)\n",
    "s2 = Student(70,90,40)\n",
    "print(s1.avg())\n",
    "print(s2.avg())\n",
    "print(Student.avg(s1))\n",
    "print(Student.avg(s2))            "
   ]
  },
  {
   "attachments": {},
   "cell_type": "markdown",
   "metadata": {},
   "source": [
    "###### Class Method"
   ]
  },
  {
   "cell_type": "code",
   "execution_count": 14,
   "metadata": {},
   "outputs": [
    {
     "name": "stdout",
     "output_type": "stream",
     "text": [
      "80.0\n",
      "66.66666666666667\n",
      "DPS - New Delhi\n"
     ]
    }
   ],
   "source": [
    "class Student:\n",
    "\n",
    "    school = \"DPS - New Delhi\"\n",
    "    def __init__(self,m1,m2,m3):\n",
    "        self.m1 = m1\n",
    "        self.m2 = m2\n",
    "        self.m3 = m3\n",
    "    def avg(self):\n",
    "        return(self.m1 + self.m2 + self.m3)/3\n",
    "    @classmethod\n",
    "    def get_school(cls):\n",
    "        return cls.school    \n",
    "s1 = Student(90,80,70)\n",
    "s2 = Student(70,90,40)\n",
    "print(s1.avg())\n",
    "print(s2.avg())\n",
    "print(Student.get_school())"
   ]
  },
  {
   "attachments": {},
   "cell_type": "markdown",
   "metadata": {},
   "source": [
    "######Static Method - nothing to do instance or class variable "
   ]
  },
  {
   "cell_type": "code",
   "execution_count": 16,
   "metadata": {},
   "outputs": [
    {
     "name": "stdout",
     "output_type": "stream",
     "text": [
      "80.0\n",
      "66.66666666666667\n",
      "This is my Class.... \n"
     ]
    }
   ],
   "source": [
    "class Student:\n",
    "\n",
    "    def __init__(self,m1,m2,m3):\n",
    "        self.m1 = m1\n",
    "        self.m2 = m2\n",
    "        self.m3 = m3\n",
    "    def avg(self):\n",
    "        return(self.m1 + self.m2 + self.m3)/3\n",
    "    @staticmethod\n",
    "    def info():\n",
    "        print(\"This is my Class.... \")    \n",
    "s1 = Student(90,80,70)\n",
    "s2 = Student(70,90,40)\n",
    "print(s1.avg())\n",
    "print(s2.avg())\n",
    "\n",
    "Student.info()"
   ]
  },
  {
   "attachments": {},
   "cell_type": "markdown",
   "metadata": {},
   "source": [
    "###### Inner Class - class inside a class"
   ]
  },
  {
   "cell_type": "code",
   "execution_count": 20,
   "metadata": {},
   "outputs": [
    {
     "name": "stdout",
     "output_type": "stream",
     "text": [
      "Sharique 1\n",
      "Dell i7\n",
      "Rizwan 2\n",
      "Dell i7\n"
     ]
    }
   ],
   "source": [
    "class Student:\n",
    "    def __init__(self,name ,roll):\n",
    "        self.name = name\n",
    "        self.roll = roll\n",
    "        self.lap = self.Laptop()\n",
    "    def show(self):\n",
    "        print(self.name,self.roll)\n",
    "        self.lap.show() \n",
    "    class Laptop:\n",
    "        def __init__(self):\n",
    "            self.brand = \"Dell\"\n",
    "            self.cpu = \"i7\"\n",
    "        def show(self):\n",
    "            print(self.brand,self.cpu)           \n",
    "s1 = Student(\"Sharique\",1)\n",
    "s2 = Student(\"Rizwan\",2)\n",
    "s1.show()\n",
    "s2.show()\n",
    "lap1 = Student.Laptop()\n"
   ]
  },
  {
   "attachments": {},
   "cell_type": "markdown",
   "metadata": {},
   "source": [
    "#### Inheritance\n",
    "* Single level Inheritance\n",
    "* Multiple level Inheritance\n",
    "* Multiple Inheritance"
   ]
  },
  {
   "cell_type": "code",
   "execution_count": null,
   "metadata": {},
   "outputs": [],
   "source": []
  }
 ],
 "metadata": {
  "kernelspec": {
   "display_name": "base",
   "language": "python",
   "name": "python3"
  },
  "language_info": {
   "codemirror_mode": {
    "name": "ipython",
    "version": 3
   },
   "file_extension": ".py",
   "mimetype": "text/x-python",
   "name": "python",
   "nbconvert_exporter": "python",
   "pygments_lexer": "ipython3",
   "version": "3.9.12"
  },
  "orig_nbformat": 4,
  "vscode": {
   "interpreter": {
    "hash": "c28b3cece02bc02c12fa5766a988d4443922620539affbc7b46a193a80d0f256"
   }
  }
 },
 "nbformat": 4,
 "nbformat_minor": 2
}
