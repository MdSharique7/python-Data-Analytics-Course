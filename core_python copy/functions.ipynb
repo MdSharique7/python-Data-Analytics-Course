{
 "cells": [
  {
   "cell_type": "code",
   "execution_count": 1,
   "metadata": {},
   "outputs": [
    {
     "name": "stdout",
     "output_type": "stream",
     "text": [
      "How are you doing today\n",
      "okay😂\n"
     ]
    }
   ],
   "source": [
    "def query():\n",
    "    print(\"How are you doing today\")\n",
    "    print(\"okay😂\")\n",
    "query()    "
   ]
  },
  {
   "cell_type": "code",
   "execution_count": 2,
   "metadata": {},
   "outputs": [
    {
     "name": "stdout",
     "output_type": "stream",
     "text": [
      "<function hypotenuse at 0x000001F971E4A5E0>\n"
     ]
    }
   ],
   "source": [
    "def hypotenuse(p,b):\n",
    "    ans = (p**2 + b**2)**0.5\n",
    "    return ans\n",
    "hypotenuse(3,4) \n",
    "   "
   ]
  },
  {
   "cell_type": "code",
   "execution_count": 4,
   "metadata": {},
   "outputs": [
    {
     "data": {
      "text/plain": [
       "13.0"
      ]
     },
     "execution_count": 4,
     "metadata": {},
     "output_type": "execute_result"
    }
   ],
   "source": [
    "hypotenuse(5,12)"
   ]
  },
  {
   "cell_type": "code",
   "execution_count": 5,
   "metadata": {},
   "outputs": [
    {
     "name": "stdout",
     "output_type": "stream",
     "text": [
      "hyp = 5.830951894845301\n"
     ]
    }
   ],
   "source": [
    "a=int(input(\"enter perpendicular: \"))\n",
    "b = int(input(\"enter base: \"))\n",
    "c = hypotenuse(a,b)\n",
    "print(f'hyp = {c}')"
   ]
  },
  {
   "cell_type": "code",
   "execution_count": 12,
   "metadata": {},
   "outputs": [
    {
     "data": {
      "text/plain": [
       "9.0"
      ]
     },
     "execution_count": 12,
     "metadata": {},
     "output_type": "execute_result"
    }
   ],
   "source": [
    "\n",
    "def calculate_area(dim1,dim2,shape=\"triangle\"):\n",
    "    \n",
    "\n",
    "    if shape == \"triangle\":\n",
    "     area = (1/2)*dim1*dim2\n",
    "    elif shape ==\"triangle\":\n",
    "     area = dim1*dim2\n",
    "     print(area)\n",
    "    else:\n",
    "        print(\"Error: Input shape is neither triangle nor rectangle.\")\n",
    "        area=None \n",
    "    return(area) \n",
    "calculate_area(3,6)\n"
   ]
  },
  {
   "cell_type": "code",
   "execution_count": null,
   "metadata": {},
   "outputs": [],
   "source": []
  }
 ],
 "metadata": {
  "kernelspec": {
   "display_name": "base",
   "language": "python",
   "name": "python3"
  },
  "language_info": {
   "codemirror_mode": {
    "name": "ipython",
    "version": 3
   },
   "file_extension": ".py",
   "mimetype": "text/x-python",
   "name": "python",
   "nbconvert_exporter": "python",
   "pygments_lexer": "ipython3",
   "version": "3.9.12"
  },
  "orig_nbformat": 4,
  "vscode": {
   "interpreter": {
    "hash": "c28b3cece02bc02c12fa5766a988d4443922620539affbc7b46a193a80d0f256"
   }
  }
 },
 "nbformat": 4,
 "nbformat_minor": 2
}
