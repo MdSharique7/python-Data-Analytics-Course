{
 "cells": [
  {
   "attachments": {},
   "cell_type": "markdown",
   "metadata": {},
   "source": [
    "## data structures\n",
    "-string"
   ]
  },
  {
   "attachments": {},
   "cell_type": "markdown",
   "metadata": {},
   "source": [
    "list \n",
    "  - ordered, indexed, mutable, allows duplicate elements\n",
    "  - heterogenous(mixed type of values can be stored)\n",
    "  - can be nested\n",
    "  - list() is used for creating a list from other sequences\n",
    "  - represented by [ ]"
   ]
  },
  {
   "cell_type": "code",
   "execution_count": 1,
   "metadata": {},
   "outputs": [
    {
     "name": "stdout",
     "output_type": "stream",
     "text": [
      "[] []\n",
      "<class 'list'> <class 'list'>\n"
     ]
    }
   ],
   "source": [
    "x = []\n",
    "y = list()\n",
    "print(x,y)\n",
    "print(type(x),type(x))"
   ]
  },
  {
   "cell_type": "code",
   "execution_count": 2,
   "metadata": {},
   "outputs": [
    {
     "name": "stdout",
     "output_type": "stream",
     "text": [
      "[1, 2, 3, 4, 5] ['ajay', 'vijay', 'sanjay']\n"
     ]
    }
   ],
   "source": [
    "x = [1,2,3,4,5]\n",
    "names = ['ajay','vijay','sanjay']\n",
    "print(x,names)"
   ]
  },
  {
   "cell_type": "code",
   "execution_count": 3,
   "metadata": {},
   "outputs": [
    {
     "name": "stdout",
     "output_type": "stream",
     "text": [
      "['Apple', 100, 'Banana', 40, 'Orange', 50]\n"
     ]
    }
   ],
   "source": [
    "mixed = ['Apple',100, 'Banana',40, 'Orange',50]\n",
    "print(mixed)"
   ]
  },
  {
   "cell_type": "code",
   "execution_count": 4,
   "metadata": {},
   "outputs": [
    {
     "name": "stdout",
     "output_type": "stream",
     "text": [
      "[1, 1, 1, 1, 1, 1, 1, 1, 1, 1]\n"
     ]
    }
   ],
   "source": [
    "ones = [1] * 10 # duplicates 1 10 times and store in list\n",
    "print(ones)"
   ]
  },
  {
   "cell_type": "code",
   "execution_count": 5,
   "metadata": {},
   "outputs": [
    {
     "name": "stdout",
     "output_type": "stream",
     "text": [
      "['H', 'o', 'm', 'o', 's', 'a', 'p', 'i', 'e', 'n', 's']\n"
     ]
    }
   ],
   "source": [
    "word = 'Homosapiens'\n",
    "chrs = list(word)\n",
    "print(chrs)"
   ]
  },
  {
   "cell_type": "code",
   "execution_count": 6,
   "metadata": {},
   "outputs": [
    {
     "name": "stdout",
     "output_type": "stream",
     "text": [
      "1\n",
      "2\n",
      "3\n",
      "4\n",
      "5\n"
     ]
    }
   ],
   "source": [
    "for i in x:\n",
    "    print(i)"
   ]
  },
  {
   "cell_type": "code",
   "execution_count": 8,
   "metadata": {},
   "outputs": [
    {
     "data": {
      "text/plain": [
       "['steelheart', 'book2', 'book3']"
      ]
     },
     "execution_count": 8,
     "metadata": {},
     "output_type": "execute_result"
    }
   ],
   "source": [
    "books = ['book1','book2','book3']\n",
    "books[0] = 'steelheart'\n",
    "books"
   ]
  },
  {
   "cell_type": "code",
   "execution_count": 9,
   "metadata": {},
   "outputs": [
    {
     "name": "stdout",
     "output_type": "stream",
     "text": [
      "['steelheart', 'The Final Empire', 'The way of kings']\n"
     ]
    }
   ],
   "source": [
    "books[1] = \"The Final Empire\"\n",
    "books[2] = \"The way of kings\"\n",
    "print(books)"
   ]
  },
  {
   "attachments": {},
   "cell_type": "markdown",
   "metadata": {},
   "source": [
    "- list_var.append(single_element)\n",
    "- list_var.remove(single_element)"
   ]
  },
  {
   "cell_type": "code",
   "execution_count": 10,
   "metadata": {},
   "outputs": [
    {
     "name": "stdout",
     "output_type": "stream",
     "text": [
      "['steelheart', 'The Final Empire', 'The way of kings', 'The hero of Ages']\n"
     ]
    }
   ],
   "source": [
    "books.append(\"The hero of Ages\")\n",
    "print(books)"
   ]
  },
  {
   "cell_type": "code",
   "execution_count": 11,
   "metadata": {},
   "outputs": [
    {
     "name": "stdout",
     "output_type": "stream",
     "text": [
      "['steelheart', 'The Final Empire', 'The way of kings']\n"
     ]
    }
   ],
   "source": [
    "books.remove(\"The hero of Ages\")\n",
    "print(books)"
   ]
  },
  {
   "cell_type": "code",
   "execution_count": 12,
   "metadata": {},
   "outputs": [
    {
     "name": "stdout",
     "output_type": "stream",
     "text": [
      "['Tiger', 'DDLJ', 'Anaconda', 'The Game', 'Avatar', 'Aarzoo', 'Pirahna', 'Avanger', 'Spiderman', 'batman', 'The Ant Man', 'Narnia', 'The Hero', 'pathan', 'Raees']\n"
     ]
    }
   ],
   "source": [
    "movies = ['Tiger','DDLJ','Anaconda','The Game','Avatar','Aarzoo','Pirahna','Avanger','Spiderman','batman','The Ant Man','Narnia','The Hero','pathan','Raees']\n",
    "print(movies)"
   ]
  },
  {
   "cell_type": "code",
   "execution_count": 13,
   "metadata": {},
   "outputs": [
    {
     "data": {
      "text/plain": [
       "list"
      ]
     },
     "execution_count": 13,
     "metadata": {},
     "output_type": "execute_result"
    }
   ],
   "source": [
    "type(movies)"
   ]
  },
  {
   "cell_type": "code",
   "execution_count": 14,
   "metadata": {},
   "outputs": [
    {
     "data": {
      "text/plain": [
       "['Tiger', 'DDLJ', 'Anaconda']"
      ]
     },
     "execution_count": 14,
     "metadata": {},
     "output_type": "execute_result"
    }
   ],
   "source": [
    "movies[:3]"
   ]
  },
  {
   "cell_type": "code",
   "execution_count": 17,
   "metadata": {},
   "outputs": [
    {
     "data": {
      "text/plain": [
       "['Tiger',\n",
       " 'DDLJ',\n",
       " 'Anaconda',\n",
       " 'The Game',\n",
       " 'Avatar',\n",
       " 'Aarzoo',\n",
       " 'Pirahna',\n",
       " 'Avanger',\n",
       " 'Spiderman',\n",
       " 'batman',\n",
       " 'The Ant Man']"
      ]
     },
     "execution_count": 17,
     "metadata": {},
     "output_type": "execute_result"
    }
   ],
   "source": [
    "movies[:11]"
   ]
  },
  {
   "cell_type": "code",
   "execution_count": 15,
   "metadata": {},
   "outputs": [
    {
     "name": "stdout",
     "output_type": "stream",
     "text": [
      "['400 days', 'The emperor', 'The game ', 'narnia ', 'legion']\n"
     ]
    }
   ],
   "source": [
    "books = []\n",
    "for i in range(5):\n",
    "    books.append(input())\n",
    "print(books)    "
   ]
  },
  {
   "cell_type": "code",
   "execution_count": 18,
   "metadata": {},
   "outputs": [
    {
     "data": {
      "text/plain": [
       "['Tiger',\n",
       " 'DDLJ',\n",
       " 'Anaconda',\n",
       " 'The Game',\n",
       " 'Avatar',\n",
       " 'Aarzoo',\n",
       " 'Pirahna',\n",
       " 'Avanger',\n",
       " 'Spiderman',\n",
       " 'batman']"
      ]
     },
     "execution_count": 18,
     "metadata": {},
     "output_type": "execute_result"
    }
   ],
   "source": [
    "movies[:-5]"
   ]
  },
  {
   "cell_type": "code",
   "execution_count": 19,
   "metadata": {},
   "outputs": [
    {
     "data": {
      "text/plain": [
       "['Aarzoo', 'Pirahna', 'Avanger', 'Spiderman', 'batman']"
      ]
     },
     "execution_count": 19,
     "metadata": {},
     "output_type": "execute_result"
    }
   ],
   "source": [
    "movies[5:-5] # start at idx 5 and stop at idx -5"
   ]
  },
  {
   "cell_type": "code",
   "execution_count": 20,
   "metadata": {},
   "outputs": [
    {
     "data": {
      "text/plain": [
       "['Raees',\n",
       " 'pathan',\n",
       " 'The Hero',\n",
       " 'Narnia',\n",
       " 'The Ant Man',\n",
       " 'batman',\n",
       " 'Spiderman',\n",
       " 'Avanger',\n",
       " 'Pirahna',\n",
       " 'Aarzoo',\n",
       " 'Avatar',\n",
       " 'The Game',\n",
       " 'Anaconda',\n",
       " 'DDLJ',\n",
       " 'Tiger']"
      ]
     },
     "execution_count": 20,
     "metadata": {},
     "output_type": "execute_result"
    }
   ],
   "source": [
    "movies[::-1] # reverse the list"
   ]
  },
  {
   "cell_type": "code",
   "execution_count": 21,
   "metadata": {},
   "outputs": [
    {
     "name": "stdout",
     "output_type": "stream",
     "text": [
      "['Tiger', 'Anaconda', 'Avatar', 'Pirahna', 'Spiderman', 'The Ant Man', 'The Hero', 'Raees']\n"
     ]
    }
   ],
   "source": [
    "print(movies[::2]) # every 2nd element"
   ]
  },
  {
   "attachments": {},
   "cell_type": "markdown",
   "metadata": {},
   "source": [
    "methods - 11\n",
    "- adding\n",
    "    -append()\n",
    "    -insert()\n",
    "    -extend()\n",
    "- remove\n",
    "    - remove()\n",
    "    - pop()\n",
    "    - clear()\n",
    "- utility\n",
    "    - index()\n",
    "    - count()\n",
    "    - sort()\n",
    "    - reverse()\n",
    "    - copy()"
   ]
  },
  {
   "cell_type": "code",
   "execution_count": 27,
   "metadata": {},
   "outputs": [
    {
     "name": "stdout",
     "output_type": "stream",
     "text": [
      "[1, 2, 3]\n"
     ]
    }
   ],
   "source": [
    "x=[1,2]\n",
    "x.append(3)\n",
    "print(x)"
   ]
  },
  {
   "cell_type": "code",
   "execution_count": 28,
   "metadata": {},
   "outputs": [
    {
     "name": "stdout",
     "output_type": "stream",
     "text": [
      "[1, 1.5, 2, 3]\n"
     ]
    }
   ],
   "source": [
    "x.insert(1,1.5)\n",
    "print(x)"
   ]
  },
  {
   "cell_type": "code",
   "execution_count": 29,
   "metadata": {},
   "outputs": [
    {
     "name": "stdout",
     "output_type": "stream",
     "text": [
      "[1, 1.5, 2, 2.5, 3]\n"
     ]
    }
   ],
   "source": [
    "x.insert(3,2.5)\n",
    "print(x)"
   ]
  },
  {
   "cell_type": "code",
   "execution_count": 30,
   "metadata": {},
   "outputs": [
    {
     "name": "stdout",
     "output_type": "stream",
     "text": [
      "[1, 1.5, 2, 100, 2.5, 3]\n"
     ]
    }
   ],
   "source": [
    "x.insert(3,100)\n",
    "print(x)"
   ]
  },
  {
   "cell_type": "code",
   "execution_count": 31,
   "metadata": {},
   "outputs": [
    {
     "data": {
      "text/plain": [
       "[1, 2, 3, 4, 5, 6]"
      ]
     },
     "execution_count": 31,
     "metadata": {},
     "output_type": "execute_result"
    }
   ],
   "source": [
    "a=[1,2,3]\n",
    "b=[4,5,6]\n",
    "a+b"
   ]
  },
  {
   "cell_type": "code",
   "execution_count": 32,
   "metadata": {},
   "outputs": [
    {
     "name": "stdout",
     "output_type": "stream",
     "text": [
      "[1, 2, 3, 4, 5, 6]\n"
     ]
    }
   ],
   "source": [
    "a.extend(b)\n",
    "print(a)"
   ]
  },
  {
   "attachments": {},
   "cell_type": "markdown",
   "metadata": {},
   "source": [
    "wap to calculate the sum of all the elements in the list"
   ]
  },
  {
   "cell_type": "code",
   "execution_count": 33,
   "metadata": {},
   "outputs": [
    {
     "name": "stdout",
     "output_type": "stream",
     "text": [
      "24\n"
     ]
    }
   ],
   "source": [
    "total = 0\n",
    "lst1 = [3,5,7,9]\n",
    "for i in range(len(lst1)):\n",
    "    total = total + lst1[i]\n",
    "print(total)"
   ]
  },
  {
   "attachments": {},
   "cell_type": "markdown",
   "metadata": {},
   "source": [
    "wap to find the largest number in the list"
   ]
  },
  {
   "cell_type": "code",
   "execution_count": 44,
   "metadata": {},
   "outputs": [
    {
     "name": "stdout",
     "output_type": "stream",
     "text": [
      "20\n",
      "60\n",
      "60\n",
      "60\n"
     ]
    }
   ],
   "source": [
    "lst1 = []\n",
    "lst2 = int(input(\"enter the numbers: \"))\n",
    "for i in range (lst2 + 1):\n",
    "    a = int(input(\"enter elements: \"))\n",
    "    lst1.append(a)\n",
    "    \n",
    "    print(max(lst1))  \n",
    "    "
   ]
  },
  {
   "cell_type": "code",
   "execution_count": 50,
   "metadata": {},
   "outputs": [
    {
     "name": "stdout",
     "output_type": "stream",
     "text": [
      "9\n"
     ]
    }
   ],
   "source": [
    "num = [3,5,7,9,10,2]\n",
    "num.sort()\n",
    "print((num[-2]))"
   ]
  },
  {
   "cell_type": "code",
   "execution_count": null,
   "metadata": {},
   "outputs": [],
   "source": []
  }
 ],
 "metadata": {
  "kernelspec": {
   "display_name": "base",
   "language": "python",
   "name": "python3"
  },
  "language_info": {
   "codemirror_mode": {
    "name": "ipython",
    "version": 3
   },
   "file_extension": ".py",
   "mimetype": "text/x-python",
   "name": "python",
   "nbconvert_exporter": "python",
   "pygments_lexer": "ipython3",
   "version": "3.9.12 (main, Apr  4 2022, 05:22:27) [MSC v.1916 64 bit (AMD64)]"
  },
  "orig_nbformat": 4,
  "vscode": {
   "interpreter": {
    "hash": "c28b3cece02bc02c12fa5766a988d4443922620539affbc7b46a193a80d0f256"
   }
  }
 },
 "nbformat": 4,
 "nbformat_minor": 2
}
