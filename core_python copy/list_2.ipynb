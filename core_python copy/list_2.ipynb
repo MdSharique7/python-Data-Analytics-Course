{
 "cells": [
  {
   "cell_type": "code",
   "execution_count": 1,
   "metadata": {},
   "outputs": [],
   "source": [
    "from random import randint"
   ]
  },
  {
   "cell_type": "code",
   "execution_count": 2,
   "metadata": {},
   "outputs": [
    {
     "name": "stdout",
     "output_type": "stream",
     "text": [
      "[78, 51, 38, 27, 53, 12, 71, 16, 63, 20, 9, 59, 85, 9, 9, 62, 9, 38, 58, 31, 41, 75, 36, 47, 5]\n"
     ]
    }
   ],
   "source": [
    "x=[]\n",
    "for i in range(25):\n",
    "    x.append(randint(1,100))\n",
    "print(x)    "
   ]
  },
  {
   "cell_type": "code",
   "execution_count": 3,
   "metadata": {},
   "outputs": [
    {
     "name": "stdout",
     "output_type": "stream",
     "text": [
      "[78, 51, 38, 27, 53, 12, 71, 16, 63, 20, 9, 59, 85, 9, 9, 62, 9, 38, 58, 31, 41, 75, 36, 47, 5]\n"
     ]
    }
   ],
   "source": [
    "val = 87\n",
    "if val in x:\n",
    "    x.remove(val)\n",
    "print(x)    "
   ]
  },
  {
   "cell_type": "code",
   "execution_count": 4,
   "metadata": {},
   "outputs": [
    {
     "data": {
      "text/plain": [
       "3"
      ]
     },
     "execution_count": 4,
     "metadata": {},
     "output_type": "execute_result"
    }
   ],
   "source": [
    "x.index(27) # for to know index value"
   ]
  },
  {
   "cell_type": "code",
   "execution_count": 5,
   "metadata": {},
   "outputs": [
    {
     "name": "stdout",
     "output_type": "stream",
     "text": [
      "[9, 9, 9, 12, 16, 20, 27, 31, 36, 38, 38, 41, 47, 51, 53, 58, 59, 62, 63, 71, 75, 78, 85]\n"
     ]
    }
   ],
   "source": [
    "x.pop(10)\n",
    "x.pop()\n",
    "x.sort()\n",
    "print(x)"
   ]
  },
  {
   "cell_type": "code",
   "execution_count": 6,
   "metadata": {},
   "outputs": [
    {
     "name": "stdout",
     "output_type": "stream",
     "text": [
      "[85, 78, 75, 71, 63, 62, 59, 58, 53, 51, 47, 41, 38, 38, 36, 31, 27, 20, 16, 12, 9, 9, 9]\n"
     ]
    }
   ],
   "source": [
    "x.sort(reverse = True)\n",
    "print(x)"
   ]
  },
  {
   "cell_type": "code",
   "execution_count": 7,
   "metadata": {},
   "outputs": [
    {
     "data": {
      "text/plain": [
       "0"
      ]
     },
     "execution_count": 7,
     "metadata": {},
     "output_type": "execute_result"
    }
   ],
   "source": [
    "x.count(17)"
   ]
  },
  {
   "cell_type": "code",
   "execution_count": 8,
   "metadata": {},
   "outputs": [
    {
     "name": "stdout",
     "output_type": "stream",
     "text": [
      "[1, 2, 4, 5, 15]\n",
      "[1, 2, 4, 5, 15]\n",
      "[1, 2, 3, 4, 5, 10]\n",
      "True\n",
      "False\n",
      "False\n"
     ]
    }
   ],
   "source": [
    "x = [1,2,3,4,5]\n",
    "y = x\n",
    "z = x.copy()\n",
    "y.append(15)\n",
    "x.remove(3)\n",
    "z.append(10)\n",
    "print(x)\n",
    "print(y)\n",
    "print(z)\n",
    "print(x is y)\n",
    "print(x is z)\n",
    "print(y is z)"
   ]
  },
  {
   "cell_type": "code",
   "execution_count": 9,
   "metadata": {},
   "outputs": [
    {
     "data": {
      "text/plain": [
       "[]"
      ]
     },
     "execution_count": 9,
     "metadata": {},
     "output_type": "execute_result"
    }
   ],
   "source": [
    "x.clear()\n",
    "x"
   ]
  },
  {
   "attachments": {},
   "cell_type": "markdown",
   "metadata": {},
   "source": [
    "Q - 1\n",
    "  -wap to count all the numbers greater than 50 in a list of 100"
   ]
  },
  {
   "cell_type": "code",
   "execution_count": 10,
   "metadata": {},
   "outputs": [
    {
     "name": "stdout",
     "output_type": "stream",
     "text": [
      "[2, 87, 14, 64, 32, 10, 46, 78, 48, 49, 42, 27, 85, 23, 50, 10, 80, 59, 71, 22, 44, 76, 87, 78, 50, 5, 83, 74, 23, 8, 30, 78, 71, 88, 62, 59, 97, 89, 41, 26, 46, 31, 67, 27, 49, 81, 73, 70, 22, 9, 78, 91, 29, 37, 28, 56, 73, 6, 58, 90, 74, 64, 48, 70, 5, 81, 13, 11, 1, 16, 80, 30, 35, 93, 70, 15, 98, 64, 53, 13, 68, 31, 99, 43, 24, 99, 60, 46, 15, 57, 18, 34, 86, 49, 79, 16, 13, 25, 65, 10]\n"
     ]
    }
   ],
   "source": [
    "num = 0\n",
    "x=[]\n",
    "for _ in range(100):\n",
    "    x.append(randint(1,100))\n",
    "    \n",
    "print(x)    \n"
   ]
  },
  {
   "cell_type": "code",
   "execution_count": 11,
   "metadata": {},
   "outputs": [
    {
     "name": "stdout",
     "output_type": "stream",
     "text": [
      "we have49 numbers > = 50\n"
     ]
    }
   ],
   "source": [
    "c50 = 0\n",
    "for i in x:\n",
    "    if i>=50:\n",
    "        c50= c50 + 1\n",
    "print(f'we have{c50} numbers > = 50')        "
   ]
  },
  {
   "attachments": {},
   "cell_type": "markdown",
   "metadata": {},
   "source": [
    "add all the numbers that are less than equal to 25 & display the result"
   ]
  },
  {
   "cell_type": "code",
   "execution_count": 12,
   "metadata": {},
   "outputs": [
    {
     "name": "stdout",
     "output_type": "stream",
     "text": [
      "we have 26 numbers < = 25\n"
     ]
    }
   ],
   "source": [
    "sub25 = 0\n",
    "for i in x:\n",
    "    if i<=25:\n",
    "        sub25 = sub25 + 1\n",
    "print(f'we have {sub25} numbers < = 25')        "
   ]
  },
  {
   "cell_type": "code",
   "execution_count": 13,
   "metadata": {},
   "outputs": [
    {
     "name": "stdout",
     "output_type": "stream",
     "text": [
      "[11, 12, 13, 14, 15]\n"
     ]
    }
   ],
   "source": [
    "x = [1,2,3,4,5]\n",
    "x2 =[]\n",
    "for i in x:\n",
    "  x2.append(i + 10)\n",
    "print(x2)\n",
    "\n"
   ]
  },
  {
   "attachments": {},
   "cell_type": "markdown",
   "metadata": {},
   "source": [
    "list comprehension"
   ]
  },
  {
   "attachments": {},
   "cell_type": "markdown",
   "metadata": {},
   "source": [
    "sub25 = [expression , for loop ,condition]"
   ]
  },
  {
   "cell_type": "code",
   "execution_count": 14,
   "metadata": {},
   "outputs": [
    {
     "name": "stdout",
     "output_type": "stream",
     "text": [
      "15\n"
     ]
    }
   ],
   "source": [
    "sub25 = [i for i in x if i<=25]\n",
    "print(sum(sub25))"
   ]
  },
  {
   "attachments": {},
   "cell_type": "markdown",
   "metadata": {},
   "source": [
    "yodd = [i for i in y if % 2 ! = 0]"
   ]
  },
  {
   "cell_type": "code",
   "execution_count": 15,
   "metadata": {},
   "outputs": [
    {
     "name": "stdout",
     "output_type": "stream",
     "text": [
      "[11, 34, 56, 76, 35, 65]\n",
      "[11, 35, 65]\n"
     ]
    }
   ],
   "source": [
    "y = [11,34,56,76,35,65]\n",
    "yodd = []\n",
    "for i in y:\n",
    "    if i% 2!=0:\n",
    "        yodd.append(i)\n",
    "print(y)\n",
    "print(yodd)        "
   ]
  },
  {
   "cell_type": "code",
   "execution_count": 16,
   "metadata": {},
   "outputs": [
    {
     "name": "stdout",
     "output_type": "stream",
     "text": [
      "[1, 2, 3, 4, 5]\n",
      "[1, 8, 27, 64, 125]\n"
     ]
    }
   ],
   "source": [
    "xcubes = [i**3 for i in x]\n",
    "print(x)\n",
    "print(xcubes)"
   ]
  },
  {
   "attachments": {},
   "cell_type": "markdown",
   "metadata": {},
   "source": [
    "create a list of squares of only even numbers from an existing list"
   ]
  },
  {
   "cell_type": "code",
   "execution_count": 17,
   "metadata": {},
   "outputs": [
    {
     "name": "stdout",
     "output_type": "stream",
     "text": [
      "[1, 2, 3, 4, 5]\n",
      "[1, 4, 9, 16, 25]\n"
     ]
    }
   ],
   "source": [
    "xsquares = [i**2 for i in x]\n",
    "print(x)\n",
    "print(xsquares)"
   ]
  },
  {
   "cell_type": "code",
   "execution_count": 18,
   "metadata": {},
   "outputs": [
    {
     "name": "stdout",
     "output_type": "stream",
     "text": [
      "[30, 22, 43, 33, 62, 94, 71, 2, 85, 56, 88, 42, 4, 25, 86, 21, 54, 38, 94, 6, 85, 14, 79, 76, 66, 49, 2, 77, 38, 93, 33, 27, 54, 29, 6, 78, 20, 56, 13, 39, 71, 8, 98, 50, 33, 51, 9, 11, 18, 33, 100, 19, 54, 9, 82, 9, 50, 96, 26, 49, 32, 61, 11, 13, 35, 42, 46, 88, 32, 71, 15, 51, 37, 45, 45, 90, 23, 82, 61, 80, 88, 47, 82, 98, 13, 61, 18, 42, 50, 82, 92, 82, 100, 11, 63, 64, 29, 81, 56, 75]\n"
     ]
    }
   ],
   "source": [
    "from random import randint\n",
    "num = 0\n",
    "x=[]\n",
    "for _ in range(100):\n",
    "    x.append(randint(1,100))\n",
    "    \n",
    "print(x)    \n"
   ]
  },
  {
   "cell_type": "code",
   "execution_count": null,
   "metadata": {},
   "outputs": [],
   "source": []
  }
 ],
 "metadata": {
  "kernelspec": {
   "display_name": "base",
   "language": "python",
   "name": "python3"
  },
  "language_info": {
   "codemirror_mode": {
    "name": "ipython",
    "version": 3
   },
   "file_extension": ".py",
   "mimetype": "text/x-python",
   "name": "python",
   "nbconvert_exporter": "python",
   "pygments_lexer": "ipython3",
   "version": "3.9.12"
  },
  "orig_nbformat": 4,
  "vscode": {
   "interpreter": {
    "hash": "c28b3cece02bc02c12fa5766a988d4443922620539affbc7b46a193a80d0f256"
   }
  }
 },
 "nbformat": 4,
 "nbformat_minor": 2
}
