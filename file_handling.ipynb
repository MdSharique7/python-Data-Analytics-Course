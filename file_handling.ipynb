{
 "cells": [
  {
   "cell_type": "code",
   "execution_count": 2,
   "metadata": {},
   "outputs": [],
   "source": [
    "file = open(\"Sample.txt\",\"w\")\n",
    "data = input(\"Enter text to write: \")\n",
    "file.write(data) \n",
    "file.close() "
   ]
  },
  {
   "cell_type": "code",
   "execution_count": 3,
   "metadata": {},
   "outputs": [],
   "source": [
    "file = open(\"Sample.txt\",\"a\")\n",
    "data = input(\"Enter text to write: \")\n",
    "file.write(data) \n",
    "file.close() "
   ]
  },
  {
   "cell_type": "code",
   "execution_count": 4,
   "metadata": {},
   "outputs": [],
   "source": [
    "file = open(\"Sample.txt\",\"w\")\n",
    "for i in range(3):\n",
    "\n",
    "  data = input(\"Enter text to write: \")\n",
    "  file.write(data)\n",
    "  file.write(\"\\n\") \n",
    "file.close() "
   ]
  },
  {
   "cell_type": "code",
   "execution_count": 6,
   "metadata": {},
   "outputs": [],
   "source": [
    "file=open(\"Sample.txt\",\"w\")\n",
    "data = [\"sharique\",\"python\",\"student\"]\n",
    "file.writelines(data)\n",
    "file.close()"
   ]
  },
  {
   "cell_type": "code",
   "execution_count": 8,
   "metadata": {},
   "outputs": [
    {
     "name": "stdout",
     "output_type": "stream",
     "text": [
      "Hello,My name is sharique !\n",
      "I am a python course student !\n"
     ]
    }
   ],
   "source": [
    "file = open(\"Sample.txt\",\"r\")\n",
    "data = file.read()\n",
    "print(data)\n",
    "file.close()"
   ]
  },
  {
   "cell_type": "code",
   "execution_count": 12,
   "metadata": {},
   "outputs": [
    {
     "name": "stdout",
     "output_type": "stream",
     "text": [
      "Hello,My name is sharique !\n",
      "I\n"
     ]
    }
   ],
   "source": [
    "file = open(\"Sample.txt\",\"r\")\n",
    "data = file.read(29)\n",
    "print(data)\n",
    "file.close()"
   ]
  },
  {
   "cell_type": "code",
   "execution_count": 13,
   "metadata": {},
   "outputs": [
    {
     "name": "stdout",
     "output_type": "stream",
     "text": [
      "Hello,My name is sharique !\n",
      "\n"
     ]
    }
   ],
   "source": [
    "file = open(\"Sample.txt\",\"r\")\n",
    "data = file.readline()\n",
    "print(data)\n",
    "file.close()"
   ]
  },
  {
   "cell_type": "code",
   "execution_count": 15,
   "metadata": {},
   "outputs": [
    {
     "name": "stdout",
     "output_type": "stream",
     "text": [
      "['I am a python course student !']\n"
     ]
    }
   ],
   "source": [
    "file = open(\"Sample.txt\",\"r\")\n",
    "data = file.readlines()[1:]\n",
    "print(data)\n",
    "file.close()"
   ]
  },
  {
   "cell_type": "code",
   "execution_count": 16,
   "metadata": {},
   "outputs": [],
   "source": [
    "import os "
   ]
  },
  {
   "cell_type": "code",
   "execution_count": 17,
   "metadata": {},
   "outputs": [
    {
     "name": "stdout",
     "output_type": "stream",
     "text": [
      "file deleted\n"
     ]
    }
   ],
   "source": [
    "if os.path.exists(\"Sample.txt\"):\n",
    "   os.remove(\"Sample.txt\")\n",
    "   print(\"file deleted\")\n",
    "else:\n",
    "    print(\"No file present\")   "
   ]
  },
  {
   "cell_type": "code",
   "execution_count": 18,
   "metadata": {},
   "outputs": [],
   "source": [
    "### for remove a folder\n",
    "# os.rmdir(filename)"
   ]
  },
  {
   "attachments": {},
   "cell_type": "markdown",
   "metadata": {},
   "source": [
    "linear search"
   ]
  },
  {
   "cell_type": "code",
   "execution_count": 21,
   "metadata": {},
   "outputs": [
    {
     "name": "stdout",
     "output_type": "stream",
     "text": [
      "Number not found\n",
      "number found at index 1\n"
     ]
    }
   ],
   "source": [
    "nums = [3,4,56,76,4,3,5]\n",
    "search_num = 4\n",
    "for i in range(len(nums)):\n",
    "    if nums[i] ==4:\n",
    "        print(\"number found at index\",i)\n",
    "        break\n",
    "    else:\n",
    "        print(\"Number not found\")"
   ]
  },
  {
   "cell_type": "code",
   "execution_count": 31,
   "metadata": {},
   "outputs": [
    {
     "name": "stdout",
     "output_type": "stream",
     "text": [
      "Number found at index:  2\n"
     ]
    }
   ],
   "source": [
    "pos = -1\n",
    "def linear_search(l,n):\n",
    "    for i in range(len(l)):\n",
    "        if l[i] == n:\n",
    "            globals()['pos'] = i\n",
    "            return True\n",
    "    return False        \n",
    "nums = [4,5,72,8,2,7,3] \n",
    "num = 72\n",
    "if linear_search(nums,num):\n",
    "    print(\"Number found at index: \",pos)\n",
    "else:\n",
    "    print(\"Number not found\")      "
   ]
  },
  {
   "attachments": {},
   "cell_type": "markdown",
   "metadata": {},
   "source": [
    "Binary saerch"
   ]
  },
  {
   "cell_type": "code",
   "execution_count": 47,
   "metadata": {},
   "outputs": [
    {
     "name": "stdout",
     "output_type": "stream",
     "text": [
      "[2, 3, 4, 5, 7, 8, 72]\n",
      "Element found at index : 4\n"
     ]
    }
   ],
   "source": [
    "def binary_search(l,num):\n",
    "    i = 0\n",
    "    j = len(l) - 1\n",
    "    flag = 0\n",
    "    while i<=j and flag == 0:\n",
    "        mid = (i+j)//2\n",
    "        if l[mid] == num:\n",
    "            pos = mid\n",
    "            flag = 1\n",
    "        if l[mid] > num:\n",
    "            j = mid - 1\n",
    "        if l[mid] < num:\n",
    "            i = mid + 1\n",
    "    if flag == 1:\n",
    "        print(\"Element found at index :\",pos)\n",
    "    else:\n",
    "        print(\"Element Not found\")            \n",
    "a = [4,5,72,8,2,7,3]\n",
    "a.sort()\n",
    "print(a)\n",
    "binary_search(a,7)\n",
    "\n"
   ]
  },
  {
   "attachments": {},
   "cell_type": "markdown",
   "metadata": {},
   "source": [
    "Exception handling\n",
    "types of error\n",
    "Compile error # syntax error\n",
    "Logical Error # output error\n",
    "Runtime error # "
   ]
  },
  {
   "cell_type": "code",
   "execution_count": 49,
   "metadata": {},
   "outputs": [
    {
     "name": "stdout",
     "output_type": "stream",
     "text": [
      "Got exception - division by zero\n"
     ]
    }
   ],
   "source": [
    "a = 3\n",
    "b = 0\n",
    "try:\n",
    " print(a/b)\n",
    "except Exception as e:\n",
    " print(\"Got exception -\",e)"
   ]
  },
  {
   "cell_type": "code",
   "execution_count": 51,
   "metadata": {},
   "outputs": [
    {
     "name": "stdout",
     "output_type": "stream",
     "text": [
      "Got exception - invalid literal for int() with base 10: 'a'\n"
     ]
    }
   ],
   "source": [
    "try:\n",
    "    a = int(input(\"enter a number\"))\n",
    "    print(a)\n",
    "except Exception as e:\n",
    "    print(\"Got exception -\",e)    "
   ]
  },
  {
   "cell_type": "code",
   "execution_count": null,
   "metadata": {},
   "outputs": [],
   "source": []
  }
 ],
 "metadata": {
  "kernelspec": {
   "display_name": "base",
   "language": "python",
   "name": "python3"
  },
  "language_info": {
   "codemirror_mode": {
    "name": "ipython",
    "version": 3
   },
   "file_extension": ".py",
   "mimetype": "text/x-python",
   "name": "python",
   "nbconvert_exporter": "python",
   "pygments_lexer": "ipython3",
   "version": "3.9.12 (main, Apr  4 2022, 05:22:27) [MSC v.1916 64 bit (AMD64)]"
  },
  "orig_nbformat": 4,
  "vscode": {
   "interpreter": {
    "hash": "c28b3cece02bc02c12fa5766a988d4443922620539affbc7b46a193a80d0f256"
   }
  }
 },
 "nbformat": 4,
 "nbformat_minor": 2
}
